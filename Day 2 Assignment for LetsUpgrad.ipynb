{
 "cells": [
  {
   "cell_type": "markdown",
   "metadata": {},
   "source": [
    "# Assignment 1 day 2"
   ]
  },
  {
   "cell_type": "markdown",
   "metadata": {},
   "source": [
    "# 1) Lists and its default functions."
   ]
  },
  {
   "cell_type": "code",
   "execution_count": 4,
   "metadata": {},
   "outputs": [],
   "source": [
    "#lists\n",
    "#list is a collection of objects or elements\n",
    "#example for list\n",
    "empnames=['Ram','Sita','geeta','Abhi']"
   ]
  },
  {
   "cell_type": "code",
   "execution_count": 7,
   "metadata": {},
   "outputs": [],
   "source": [
    "#default functions"
   ]
  },
  {
   "cell_type": "code",
   "execution_count": 10,
   "metadata": {},
   "outputs": [
    {
     "name": "stdout",
     "output_type": "stream",
     "text": [
      "['English', 'Telugu', 'Maths', 'Science', 'Social']\n"
     ]
    }
   ],
   "source": [
    "# 1)append():It is used to add elements to the last position of List.\n",
    "# Adds List Element as value of List. \n",
    "List = ['English','Telugu','Maths','Science'] \n",
    "List.append('Social') \n",
    "print(List) "
   ]
  },
  {
   "cell_type": "code",
   "execution_count": 11,
   "metadata": {},
   "outputs": [
    {
     "name": "stdout",
     "output_type": "stream",
     "text": [
      "['English', 'Telugu', 'Maths', 'Science', 'Computer', 'Social']\n"
     ]
    }
   ],
   "source": [
    "#2)insert(): Inserts an elements at specified position.\n",
    "# Insert at index 2 value 10087 \n",
    "List.insert(4,'Computer')      \n",
    "print(List)"
   ]
  },
  {
   "cell_type": "code",
   "execution_count": 12,
   "metadata": {},
   "outputs": [
    {
     "name": "stdout",
     "output_type": "stream",
     "text": [
      "[1, 2, 3, 2, 3, 4, 5]\n",
      "[2, 3, 4, 5, 1, 2, 3, 2, 3, 4, 5]\n"
     ]
    }
   ],
   "source": [
    "#3)extend(): Adds contents to List2 to the end of List1.\n",
    "List1 = [1, 2, 3] \n",
    "List2 = [2, 3, 4, 5] \n",
    "  \n",
    "# Add List2 to List1 \n",
    "List1.extend(List2)         \n",
    "print(List1) \n",
    "  \n",
    "# Add List1 to List2 now \n",
    "List2.extend(List1)  \n",
    "print(List2) "
   ]
  },
  {
   "cell_type": "code",
   "execution_count": 13,
   "metadata": {},
   "outputs": [
    {
     "name": "stdout",
     "output_type": "stream",
     "text": [
      "15\n"
     ]
    }
   ],
   "source": [
    "#4)sum() : Calculates sum of all the elements of List.\n",
    "List = [1, 2, 3, 4, 5] \n",
    "print(sum(List)) "
   ]
  },
  {
   "cell_type": "code",
   "execution_count": 14,
   "metadata": {},
   "outputs": [
    {
     "name": "stdout",
     "output_type": "stream",
     "text": [
      "1\n"
     ]
    }
   ],
   "source": [
    "#5)index(): Returns the index of first occurrence. Start and End index are not necessary parameters.\n",
    "List3 = [1, 2, 3, 1, 2, 1, 2, 3, 2, 1] \n",
    "print(List3.index(2)) "
   ]
  },
  {
   "cell_type": "markdown",
   "metadata": {},
   "source": [
    "# 2)Dictionary and its default functions"
   ]
  },
  {
   "cell_type": "code",
   "execution_count": 31,
   "metadata": {},
   "outputs": [
    {
     "name": "stdout",
     "output_type": "stream",
     "text": [
      "{'empno': 111, 'empname': 'Raju', 'empsal': 1000}\n"
     ]
    }
   ],
   "source": [
    "#dictionary is a collection of keys and value\n",
    "emp_dict={'empno':111,'empname':'Raju','empsal':1000}\n",
    "print(emp_dict)"
   ]
  },
  {
   "cell_type": "code",
   "execution_count": 26,
   "metadata": {},
   "outputs": [
    {
     "name": "stdout",
     "output_type": "stream",
     "text": [
      "3\n"
     ]
    }
   ],
   "source": [
    "#1)len():this function returns the number of pairs\n",
    "print(len(emp_dict))"
   ]
  },
  {
   "cell_type": "code",
   "execution_count": 27,
   "metadata": {},
   "outputs": [
    {
     "name": "stdout",
     "output_type": "stream",
     "text": [
      "dict_keys(['empno', 'empname', 'empsal'])\n"
     ]
    }
   ],
   "source": [
    "#2)keys():this function is used to display keys of dictionary\n",
    "print(emp_dict.keys())"
   ]
  },
  {
   "cell_type": "code",
   "execution_count": 30,
   "metadata": {},
   "outputs": [
    {
     "name": "stdout",
     "output_type": "stream",
     "text": [
      "dict_values([])\n"
     ]
    }
   ],
   "source": [
    "#3)values():this function is used to display values of dictionary\n",
    "print(emp_dict.values())"
   ]
  },
  {
   "cell_type": "code",
   "execution_count": 32,
   "metadata": {},
   "outputs": [
    {
     "name": "stdout",
     "output_type": "stream",
     "text": [
      "{'empno': 111, 'empname': 'Raju', 'empsal': 1000}\n"
     ]
    }
   ],
   "source": [
    "#4)copy():this method copies from 1 dictinary to another\n",
    "mydict=emp_dict.copy()\n",
    "print(mydict)"
   ]
  },
  {
   "cell_type": "code",
   "execution_count": 33,
   "metadata": {},
   "outputs": [
    {
     "name": "stdout",
     "output_type": "stream",
     "text": [
      "{}\n"
     ]
    }
   ],
   "source": [
    "#5)clear():it clears a dictionary\n",
    "emp_dict.clear()\n",
    "print(emp_dict)"
   ]
  },
  {
   "cell_type": "markdown",
   "metadata": {},
   "source": [
    "# 3) Sets and its default functions"
   ]
  },
  {
   "cell_type": "code",
   "execution_count": 35,
   "metadata": {},
   "outputs": [
    {
     "name": "stdout",
     "output_type": "stream",
     "text": [
      "{1, 2, 3, 4, 5}\n"
     ]
    }
   ],
   "source": [
    "#sets are a collection of objects\n",
    "myset={1,2,3,4,5}\n",
    "print(myset)"
   ]
  },
  {
   "cell_type": "code",
   "execution_count": 46,
   "metadata": {},
   "outputs": [
    {
     "name": "stdout",
     "output_type": "stream",
     "text": [
      "People: {'Jay', 'Idrish', 'Archi'}\n"
     ]
    }
   ],
   "source": [
    "#1)Add(): \n",
    "people = {\"Jay\", \"Idrish\", \"Archi\"} \n",
    "print(\"People:\", end = \" \") \n",
    "print(people) \n",
    "# This will add Daxit in the set \n",
    "people.add(\"Daxit\") "
   ]
  },
  {
   "cell_type": "code",
   "execution_count": 48,
   "metadata": {},
   "outputs": [
    {
     "name": "stdout",
     "output_type": "stream",
     "text": [
      "Union using union() function\n",
      "{'Jay', 'Arjun', 'Karan', 'Archil', 'Idrish'}\n"
     ]
    }
   ],
   "source": [
    "#2)Union:Two sets can be merged using union() function or | operator\n",
    "people = {\"Jay\", \"Idrish\", \"Archil\"} \n",
    "singers = {\"Karan\", \"Arjun\"} \n",
    "dancers = {\"Deepanshu\", \"Raju\"} \n",
    "# Union using union() function \n",
    "audience = people.union(singers) \n",
    "  \n",
    "print(\"Union using union() function\") \n",
    "print(audience) "
   ]
  },
  {
   "cell_type": "code",
   "execution_count": 51,
   "metadata": {},
   "outputs": [
    {
     "name": "stdout",
     "output_type": "stream",
     "text": [
      "Intersection using intersection() function\n",
      "{5}\n"
     ]
    }
   ],
   "source": [
    "#3)Intersection:Common Elements are selected.\n",
    "set1 = {1,2,3,4,5}\n",
    "set2 = {5,6,7,8,9,10} \n",
    "set3 = set1.intersection(set2) \n",
    "print(\"Intersection using intersection() function\") \n",
    "print(set3) "
   ]
  },
  {
   "cell_type": "code",
   "execution_count": 52,
   "metadata": {},
   "outputs": [
    {
     "name": "stdout",
     "output_type": "stream",
     "text": [
      " Difference of two sets using difference() function\n",
      "{5}\n"
     ]
    }
   ],
   "source": [
    "#4)Difference:To find difference in between sets. \n",
    "set1 = {1,2,3,4,5}\n",
    "set2 = {5,6,7,8,9,10} \n",
    "print(\" Difference of two sets using difference() function\") \n",
    "print(set3) "
   ]
  },
  {
   "cell_type": "code",
   "execution_count": 53,
   "metadata": {},
   "outputs": [
    {
     "name": "stdout",
     "output_type": "stream",
     "text": [
      "{1, 2, 3, 4, 5, 6}\n",
      "set()\n"
     ]
    }
   ],
   "source": [
    "#5)Clear():method empties the whole set.\n",
    "set1 = {1,2,3,4,5,6}  \n",
    "print(set1) \n",
    "  \n",
    "# This method will remove all the elements of the set \n",
    "set1.clear() \n",
    "print(set1) "
   ]
  },
  {
   "cell_type": "markdown",
   "metadata": {},
   "source": [
    "# 4)Tuple and its default functions"
   ]
  },
  {
   "cell_type": "code",
   "execution_count": 54,
   "metadata": {},
   "outputs": [
    {
     "name": "stdout",
     "output_type": "stream",
     "text": [
      "('apple', 'banana', 'cherry')\n"
     ]
    }
   ],
   "source": [
    "#Tuple:A tuple is a collection which is ordered and unchangeable. In Python tuples are written with round brackets.\n",
    "thistuple = (\"apple\", \"banana\", \"cherry\")\n",
    "print(thistuple)"
   ]
  },
  {
   "cell_type": "code",
   "execution_count": 57,
   "metadata": {},
   "outputs": [
    {
     "name": "stdout",
     "output_type": "stream",
     "text": [
      "('a', 'b', 'c', 1, 2, 3)\n"
     ]
    }
   ],
   "source": [
    "#1)Join two tuples:To join two or more tuples you can use the + operator:\n",
    "tuple1 = (\"a\", \"b\" , \"c\")\n",
    "tuple2 = (1, 2, 3)\n",
    "tuple3 = tuple1 + tuple2\n",
    "print(tuple3)"
   ]
  },
  {
   "cell_type": "code",
   "execution_count": 58,
   "metadata": {},
   "outputs": [
    {
     "name": "stdout",
     "output_type": "stream",
     "text": [
      "number of elements present in my tuple is 9\n"
     ]
    }
   ],
   "source": [
    "#2)len():it gives the number of elements\n",
    "mytuple=(1,2,3,4,5,6,7,8,9)\n",
    "print(\"number of elements present in my tuple is\",len(mytuple))"
   ]
  },
  {
   "cell_type": "code",
   "execution_count": 59,
   "metadata": {},
   "outputs": [
    {
     "name": "stdout",
     "output_type": "stream",
     "text": [
      "1\n"
     ]
    }
   ],
   "source": [
    "#3)min():this method returns the smallest value in a tuple.\n",
    "print(min(mytuple))"
   ]
  },
  {
   "cell_type": "code",
   "execution_count": 60,
   "metadata": {},
   "outputs": [
    {
     "name": "stdout",
     "output_type": "stream",
     "text": [
      "9\n"
     ]
    }
   ],
   "source": [
    "#4)max():this method returns the smallest value in a tuple.\n",
    "print(max(mytuple))"
   ]
  },
  {
   "cell_type": "code",
   "execution_count": 64,
   "metadata": {},
   "outputs": [
    {
     "name": "stdout",
     "output_type": "stream",
     "text": [
      "(1, 2, 3, 4, 5, 6, 7, 8, 9)\n",
      "index of 4 is: 3\n"
     ]
    }
   ],
   "source": [
    "#5)index():this method returns the index value of the given element\n",
    "mytuple=(1,2,3,4,5,6,7,8,9)\n",
    "print(mytuple)\n",
    "print(\"index of 4 is:\",mytuple.index(4))"
   ]
  },
  {
   "cell_type": "markdown",
   "metadata": {},
   "source": [
    "# 5)Strings and its default functions"
   ]
  },
  {
   "cell_type": "code",
   "execution_count": 65,
   "metadata": {},
   "outputs": [
    {
     "name": "stdout",
     "output_type": "stream",
     "text": [
      "vighnatha\n"
     ]
    }
   ],
   "source": [
    "#In Python, a string is a sequence of Unicode characters\n",
    "name=\"vighnatha\"\n",
    "print(name)"
   ]
  },
  {
   "cell_type": "code",
   "execution_count": 66,
   "metadata": {},
   "outputs": [
    {
     "name": "stdout",
     "output_type": "stream",
     "text": [
      "9\n"
     ]
    }
   ],
   "source": [
    "#1)len():this returns number of characters  which are in a string \n",
    "print(len(name))"
   ]
  },
  {
   "cell_type": "code",
   "execution_count": 68,
   "metadata": {},
   "outputs": [
    {
     "name": "stdout",
     "output_type": "stream",
     "text": [
      "True\n"
     ]
    }
   ],
   "source": [
    "#2)isupper():this method returns true if the given string is in uppercase else it returns false\n",
    "name='VIGHNATHA'\n",
    "print(name.isupper())"
   ]
  },
  {
   "cell_type": "code",
   "execution_count": 69,
   "metadata": {},
   "outputs": [
    {
     "name": "stdout",
     "output_type": "stream",
     "text": [
      "True\n"
     ]
    }
   ],
   "source": [
    "#3)islower():this method returns true if the given string is in lowercase else it returns false\n",
    "name='vighnatha'\n",
    "print(name.islower())"
   ]
  },
  {
   "cell_type": "code",
   "execution_count": 71,
   "metadata": {},
   "outputs": [
    {
     "name": "stdout",
     "output_type": "stream",
     "text": [
      "True\n",
      "False\n"
     ]
    }
   ],
   "source": [
    "#4)isalnum():this method returns true if the given string contains alphabets or numbers otherwise it reurns fales.\n",
    "string1='ram123'\n",
    "print(string1.isalnum())\n",
    "string2='ram@123'\n",
    "print(string2.isalnum())"
   ]
  },
  {
   "cell_type": "code",
   "execution_count": 72,
   "metadata": {},
   "outputs": [
    {
     "name": "stdout",
     "output_type": "stream",
     "text": [
      "['Believe', 'in', 'yourself', 'a', 'little', 'more']\n"
     ]
    }
   ],
   "source": [
    "#5)split():this method splits the given string into words and store it as an array witin single quotes\n",
    "string3=\"Believe in yourself a little more\"\n",
    "print(string3.split())"
   ]
  },
  {
   "cell_type": "code",
   "execution_count": null,
   "metadata": {},
   "outputs": [],
   "source": []
  },
  {
   "cell_type": "code",
   "execution_count": null,
   "metadata": {},
   "outputs": [],
   "source": []
  },
  {
   "cell_type": "code",
   "execution_count": null,
   "metadata": {},
   "outputs": [],
   "source": []
  }
 ],
 "metadata": {
  "kernelspec": {
   "display_name": "Python 3",
   "language": "python",
   "name": "python3"
  },
  "language_info": {
   "codemirror_mode": {
    "name": "ipython",
    "version": 3
   },
   "file_extension": ".py",
   "mimetype": "text/x-python",
   "name": "python",
   "nbconvert_exporter": "python",
   "pygments_lexer": "ipython3",
   "version": "3.7.6"
  }
 },
 "nbformat": 4,
 "nbformat_minor": 4
}
